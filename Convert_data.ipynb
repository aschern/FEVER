{
 "cells": [
  {
   "cell_type": "markdown",
   "metadata": {},
   "source": [
    "First you should load data from http://fever.ai/resources.html to the 'FEVER_data' directory."
   ]
  },
  {
   "cell_type": "markdown",
   "metadata": {},
   "source": [
    "## Сonvert several jsonl files into one csv"
   ]
  },
  {
   "cell_type": "code",
   "execution_count": null,
   "metadata": {},
   "outputs": [],
   "source": [
    "import json \n",
    "import csv \n",
    "import io\n",
    "import os\n",
    "import logging\n",
    "\n",
    "logging.getLogger().setLevel(logging.INFO)"
   ]
  },
  {
   "cell_type": "code",
   "execution_count": null,
   "metadata": {},
   "outputs": [],
   "source": [
    "def extract_json(fileobj): \n",
    "    \"\"\" \n",
    "    Iterates over an open JSONL file and yields \n",
    "    decoded lines. Closes the file once it has been \n",
    "    read completely. \n",
    "    \"\"\" \n",
    "    with fileobj: \n",
    "        for line in fileobj: \n",
    "            yield json.loads(line)\n",
    "            \n",
    "\n",
    "data_path = os.path.dirname(os.path.abspath(''))"
   ]
  },
  {
   "cell_type": "markdown",
   "metadata": {},
   "source": [
    "### Train"
   ]
  },
  {
   "cell_type": "code",
   "execution_count": null,
   "metadata": {},
   "outputs": [],
   "source": [
    "data_json = io.open(os.path.join(data_path, 'FEVER_data/train.jsonl'), mode='r', encoding='utf-8')\n",
    "data_python = extract_json(data_json) \n",
    "f = csv.writer(open(os.path.join(data_path, \"FEVER_data/train.csv\"), \"w\", encoding=\"utf-8\"))\n",
    "f.writerow([\"id\", \"verifiable\", \"label\", \"claim\", \"evidence\"])\n",
    "for r in data_python:\n",
    "    f.writerow([r[\"id\"], r[\"verifiable\"], r[\"label\"], r[\"claim\"], r[\"evidence\"]])"
   ]
  },
  {
   "cell_type": "code",
   "execution_count": null,
   "metadata": {},
   "outputs": [],
   "source": [
    "import pandas as pd\n",
    "\n",
    "train = pd.read_csv(os.path.join(data_path, \"FEVER_data/train.csv\"))"
   ]
  },
  {
   "cell_type": "code",
   "execution_count": null,
   "metadata": {},
   "outputs": [],
   "source": [
    "train.head()"
   ]
  },
  {
   "cell_type": "markdown",
   "metadata": {},
   "source": [
    "### Dev"
   ]
  },
  {
   "cell_type": "code",
   "execution_count": null,
   "metadata": {},
   "outputs": [],
   "source": [
    "data_json = io.open(os.path.join(data_path, 'FEVER_data/shared_task_dev.jsonl'), mode='r', encoding='utf-8')\n",
    "data_python = extract_json(data_json) \n",
    "f = csv.writer(open(os.path.join(data_path, \"FEVER_data/shared_task_dev.csv\"), \"w\", encoding=\"utf-8\"))\n",
    "f.writerow([\"id\", \"verifiable\", \"label\", \"claim\", \"evidence\"])\n",
    "for r in data_python:\n",
    "    f.writerow([r[\"id\"], r[\"verifiable\"], r[\"label\"], r[\"claim\"], r[\"evidence\"]])"
   ]
  },
  {
   "cell_type": "code",
   "execution_count": null,
   "metadata": {},
   "outputs": [],
   "source": [
    "dev = pd.read_csv(os.path.join(data_path, \"FEVER_data/shared_task_dev.csv\"))\n",
    "dev.head()"
   ]
  },
  {
   "cell_type": "markdown",
   "metadata": {},
   "source": [
    "### Test"
   ]
  },
  {
   "cell_type": "code",
   "execution_count": null,
   "metadata": {},
   "outputs": [],
   "source": [
    "data_json = io.open(os.path.join(data_path, 'FEVER_data/shared_task_test.jsonl'), mode='r', encoding='utf-8')\n",
    "data_python = extract_json(data_json)\n",
    "f = csv.writer(open(os.path.join(data_path, \"FEVER_data/shared_task_test.csv\"), \"w\", encoding=\"utf-8\"))\n",
    "f.writerow([\"id\", \"claim\"])\n",
    "for r in data_python:\n",
    "    f.writerow([r[\"id\"], r[\"claim\"]])"
   ]
  },
  {
   "cell_type": "code",
   "execution_count": null,
   "metadata": {},
   "outputs": [],
   "source": [
    "test = pd.read_csv(os.path.join(data_path, \"FEVER_data/shared_task_test.csv\"))\n",
    "test.head()"
   ]
  },
  {
   "cell_type": "markdown",
   "metadata": {},
   "source": [
    "### Wiki"
   ]
  },
  {
   "cell_type": "code",
   "execution_count": null,
   "metadata": {},
   "outputs": [],
   "source": [
    "f = csv.writer(open(os.path.join(data_path, \"FEVER_data/wiki_pages.csv\"), \"w\", encoding=\"utf-8\"))\n",
    "f.writerow([\"id\", \"text\", \"lines\"])\n",
    "for file in os.listdir(os.path.join(data_path, 'FEVER_data/wiki-pages/')):\n",
    "    data_json = io.open(os.path.join(data_path, 'FEVER_data/wiki-pages/') + file, mode='r', encoding='utf-8')\n",
    "    data_python = extract_json(data_json) \n",
    "    for r in data_python:\n",
    "        f.writerow([r[\"id\"], r[\"text\"], r[\"lines\"]])\n",
    "    logging.info(file)"
   ]
  },
  {
   "cell_type": "code",
   "execution_count": null,
   "metadata": {},
   "outputs": [],
   "source": []
  }
 ],
 "metadata": {
  "kernelspec": {
   "display_name": "Python 3",
   "language": "python",
   "name": "python3"
  },
  "language_info": {
   "codemirror_mode": {
    "name": "ipython",
    "version": 3
   },
   "file_extension": ".py",
   "mimetype": "text/x-python",
   "name": "python",
   "nbconvert_exporter": "python",
   "pygments_lexer": "ipython3",
   "version": "3.7.3"
  }
 },
 "nbformat": 4,
 "nbformat_minor": 2
}
