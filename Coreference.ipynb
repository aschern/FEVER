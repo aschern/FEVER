{
 "cells": [
  {
   "cell_type": "markdown",
   "metadata": {},
   "source": [
    "This code is based on the [source](https://www.kaggle.com/sattree/1-coref-visualization-jupyter-allenlp-stanford)"
   ]
  },
  {
   "cell_type": "raw",
   "metadata": {},
   "source": [
    "!wget http://nlp.stanford.edu/software/stanford-corenlp-full-2018-10-05.zip\n",
    "!unzip stanford-corenlp-full-2018-10-05.zip\n",
    "!pip install https://github.com/huggingface/neuralcoref-models/releases/download/en_coref_sm-3.0.0/en_coref_sm-3.0.0.tar.gz\n",
    "!pip install stanfordcorenlp"
   ]
  },
  {
   "cell_type": "code",
   "execution_count": null,
   "metadata": {},
   "outputs": [],
   "source": [
    "import warnings\n",
    "warnings.filterwarnings(\"ignore\", category=DeprecationWarning)\n",
    "\n",
    "import pandas as pd\n",
    "import numpy as np\n",
    "from tqdm import tqdm_notebook as tqdm\n",
    "import pickle\n",
    "import ast\n",
    "from unidecode import unidecode"
   ]
  },
  {
   "cell_type": "markdown",
   "metadata": {},
   "source": [
    "### Choose one of parsers (AllenNLP or Stanford)"
   ]
  },
  {
   "cell_type": "code",
   "execution_count": null,
   "metadata": {},
   "outputs": [],
   "source": [
    "from allennlp.predictors.predictor import Predictor\n",
    "\n",
    "coref_resol = Predictor.from_path(\"https://s3-us-west-2.amazonaws.com/allennlp/models/coref-model-2018.02.05.tar.gz\")"
   ]
  },
  {
   "cell_type": "code",
   "execution_count": null,
   "metadata": {},
   "outputs": [],
   "source": [
    "from stanfordcorenlp import StanfordCoreNLP\n",
    "from nltk.parse.corenlp import CoreNLPParser\n",
    "\n",
    "STANFORD_CORENLP_PATH = 'stanford-corenlp-full-2018-10-05/'\n",
    "PORT = 9090\n",
    "try:\n",
    "    server = StanfordCoreNLP(STANFORD_CORENLP_PATH, port=PORT, quiet=True)\n",
    "except OSError as e:\n",
    "    print('The port is occupied, probably an instance is already running.')\n",
    "    server = StanfordCoreNLP('http://localhost', port=PORT, quiet=True)\n",
    "    \n",
    "STANFORD_SERVER_URL = server.url\n",
    "\n",
    "stanford_model = CoreNLPParser(url=STANFORD_SERVER_URL)\n",
    "\n",
    "# If annotators are not preloaded, stanford model can take a while for the first call and may even timeout\n",
    "# make a dummy call to the server\n",
    "try:\n",
    "    stanford_model.api_call('This is a dummy text.', properties={'annotators':  'tokenize,ssplit,pos,lemma,ner,parse,dcoref'})\n",
    "except:\n",
    "    pass"
   ]
  },
  {
   "cell_type": "code",
   "execution_count": null,
   "metadata": {},
   "outputs": [],
   "source": [
    "wiki = pd.read_csv(\"FEVER_data/wiki_pages.csv\")"
   ]
  },
  {
   "cell_type": "code",
   "execution_count": null,
   "metadata": {},
   "outputs": [],
   "source": [
    "w = dict()\n",
    "w_decoded = dict()\n",
    "for r in wiki.iterrows():\n",
    "    if r[1]['id'] == r[1]['id']:\n",
    "        w[unidecode(r[1]['id'])] = r[1]['text']\n",
    "        w_decoded[unidecode(r[1]['id'])] = r[1]['id']\n",
    "del wiki"
   ]
  },
  {
   "cell_type": "markdown",
   "metadata": {},
   "source": [
    "### Choose data (dev/test)"
   ]
  },
  {
   "cell_type": "code",
   "execution_count": null,
   "metadata": {},
   "outputs": [],
   "source": [
    "train = pd.read_csv(\"FEVER_data/shared_task_dev.csv\") \n",
    "#train = pd.read_csv(\"FEVER_data/train.csv\")\n",
    "train['evidence'] = train['evidence'].apply(lambda x: ast.literal_eval(x))\n",
    "claims = train.claim.values\n",
    "evidences = train.evidence.values\n",
    "labels = train.label.values\n",
    "ver = train.verifiable.values"
   ]
  },
  {
   "cell_type": "code",
   "execution_count": null,
   "metadata": {},
   "outputs": [],
   "source": [
    "train = pd.read_csv(\"FEVER_data/shared_task_test.csv\") \n",
    "claims = train.claim.values"
   ]
  },
  {
   "cell_type": "code",
   "execution_count": null,
   "metadata": {},
   "outputs": [],
   "source": [
    "train.head()"
   ]
  },
  {
   "cell_type": "markdown",
   "metadata": {},
   "source": [
    "### Create and save coreference lists"
   ]
  },
  {
   "cell_type": "code",
   "execution_count": null,
   "metadata": {},
   "outputs": [],
   "source": [
    "with open('documents_dev.pickle', 'rb') as f:\n",
    "    documents = pickle.load(f)"
   ]
  },
  {
   "cell_type": "code",
   "execution_count": null,
   "metadata": {},
   "outputs": [],
   "source": [
    "coref = []"
   ]
  },
  {
   "cell_type": "code",
   "execution_count": null,
   "metadata": {},
   "outputs": [],
   "source": [
    "with open('coreferences_dev_stanford.pickle', 'rb') as f:\n",
    "    coref = pickle.load(f)   # in case of previous runs"
   ]
  },
  {
   "cell_type": "code",
   "execution_count": null,
   "metadata": {},
   "outputs": [],
   "source": [
    "length = 7000\n",
    "for i in tqdm(range(length)):\n",
    "    coref.append({})\n",
    "    for title in documents[i]:\n",
    "        title = unidecode(title.replace('(', '-LRB-').replace(')', '-RRB-').replace(':' , '-COLON-'))\n",
    "        if title in w:\n",
    "            text = w[title]\n",
    "            try:\n",
    "                corefs = stanford_model.api_call(text, properties={'annotators': 'tokenize,ssplit,pos,lemma,ner,parse,dcoref'})\n",
    "                coref[i][title] = corefs\n",
    "            except:\n",
    "                pass"
   ]
  },
  {
   "cell_type": "code",
   "execution_count": null,
   "metadata": {},
   "outputs": [],
   "source": [
    "with open('coreferences_dev_stanford.pickle', 'wb') as f:\n",
    "    pickle.dump(coref, f)"
   ]
  },
  {
   "cell_type": "markdown",
   "metadata": {},
   "source": [
    "### Visualization"
   ]
  },
  {
   "cell_type": "code",
   "execution_count": null,
   "metadata": {},
   "outputs": [],
   "source": [
    "from IPython.core.display import display, HTML\n",
    "# Add css styles and js events to DOM, so that they are available to rendered html\n",
    "display(HTML(open('gpr_pub/visualization/highlight.css').read()))\n",
    "display(HTML(open('gpr_pub/visualization/highlight.js').read()))"
   ]
  },
  {
   "cell_type": "code",
   "execution_count": null,
   "metadata": {},
   "outputs": [],
   "source": [
    "from gpr_pub import visualization"
   ]
  },
  {
   "cell_type": "code",
   "execution_count": null,
   "metadata": {},
   "outputs": [],
   "source": [
    "text = 'Andrew Kevin Walker -LRB- born August 14 , 1964 -RRB- is an American BAFTA-nominated screenwriter . He is known for having written Seven -LRB- 1995 -RRB- , for which he earned a nomination for the BAFTA Award for Best Original Screenplay , as well as several other films , including 8mm -LRB- 1999 -RRB- , Sleepy Hollow -LRB- 1999 -RRB- and many uncredited script rewrites . '\n",
    "data = stanford_model.api_call(text, properties={'annotators': 'tokenize,ssplit,pos,lemma,ner,parse,dcoref'})\n",
    "visualization.render(data, stanford=True, jupyter=True)"
   ]
  },
  {
   "cell_type": "code",
   "execution_count": null,
   "metadata": {},
   "outputs": [],
   "source": []
  }
 ],
 "metadata": {
  "kernelspec": {
   "display_name": "Python 3",
   "language": "python",
   "name": "python3"
  },
  "language_info": {
   "codemirror_mode": {
    "name": "ipython",
    "version": 3
   },
   "file_extension": ".py",
   "mimetype": "text/x-python",
   "name": "python",
   "nbconvert_exporter": "python",
   "pygments_lexer": "ipython3",
   "version": "3.7.3"
  }
 },
 "nbformat": 4,
 "nbformat_minor": 2
}
